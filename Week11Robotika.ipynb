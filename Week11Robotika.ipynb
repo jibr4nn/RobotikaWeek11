{
  "nbformat": 4,
  "nbformat_minor": 0,
  "metadata": {
    "colab": {
      "provenance": []
    },
    "kernelspec": {
      "name": "python3",
      "display_name": "Python 3"
    },
    "language_info": {
      "name": "python"
    }
  },
  "cells": [
    {
      "cell_type": "code",
      "execution_count": 2,
      "metadata": {
        "colab": {
          "base_uri": "https://localhost:8080/",
          "height": 211
        },
        "collapsed": true,
        "id": "2nPuclzkAqXz",
        "outputId": "0e55ed8b-d19a-4a4a-c51e-85fc0a8c23b2"
      },
      "outputs": [
        {
          "output_type": "error",
          "ename": "error",
          "evalue": "OpenCV(4.10.0) /io/opencv/modules/imgproc/src/color.cpp:196: error: (-215:Assertion failed) !_src.empty() in function 'cvtColor'\n",
          "traceback": [
            "\u001b[0;31m---------------------------------------------------------------------------\u001b[0m",
            "\u001b[0;31merror\u001b[0m                                     Traceback (most recent call last)",
            "\u001b[0;32m<ipython-input-2-bd1fa6500a64>\u001b[0m in \u001b[0;36m<cell line: 7>\u001b[0;34m()\u001b[0m\n\u001b[1;32m      5\u001b[0m \u001b[0;31m# Membaca gambar\u001b[0m\u001b[0;34m\u001b[0m\u001b[0;34m\u001b[0m\u001b[0m\n\u001b[1;32m      6\u001b[0m \u001b[0mimage\u001b[0m \u001b[0;34m=\u001b[0m \u001b[0mcv2\u001b[0m\u001b[0;34m.\u001b[0m\u001b[0mimread\u001b[0m\u001b[0;34m(\u001b[0m\u001b[0;34m'gambar.jpg'\u001b[0m\u001b[0;34m)\u001b[0m\u001b[0;34m\u001b[0m\u001b[0;34m\u001b[0m\u001b[0m\n\u001b[0;32m----> 7\u001b[0;31m \u001b[0mgray\u001b[0m \u001b[0;34m=\u001b[0m \u001b[0mcv2\u001b[0m\u001b[0;34m.\u001b[0m\u001b[0mcvtColor\u001b[0m\u001b[0;34m(\u001b[0m\u001b[0mimage\u001b[0m\u001b[0;34m,\u001b[0m \u001b[0mcv2\u001b[0m\u001b[0;34m.\u001b[0m\u001b[0mCOLOR_BGR2GRAY\u001b[0m\u001b[0;34m)\u001b[0m\u001b[0;34m\u001b[0m\u001b[0;34m\u001b[0m\u001b[0m\n\u001b[0m\u001b[1;32m      8\u001b[0m \u001b[0;34m\u001b[0m\u001b[0m\n\u001b[1;32m      9\u001b[0m \u001b[0;31m# Deteksi tepi menggunakan Canny\u001b[0m\u001b[0;34m\u001b[0m\u001b[0;34m\u001b[0m\u001b[0m\n",
            "\u001b[0;31merror\u001b[0m: OpenCV(4.10.0) /io/opencv/modules/imgproc/src/color.cpp:196: error: (-215:Assertion failed) !_src.empty() in function 'cvtColor'\n"
          ]
        }
      ],
      "source": [
        "import cv2\n",
        "import numpy as np\n",
        "import matplotlib.pyplot as plt\n",
        "\n",
        "# Membaca gambar\n",
        "image = cv2.imread('gambar.jpg')\n",
        "gray = cv2.cvtColor(image, cv2.COLOR_BGR2GRAY)\n",
        "\n",
        "# Deteksi tepi menggunakan Canny\n",
        "edges = cv2.Canny(gray, 50, 150)\n",
        "\n",
        "# Deteksi garis menggunakan Hough Transform\n",
        "lines = cv2.HoughLines(edges, 1, np.pi/180, 100)\n",
        "\n",
        "# Menampilkan garis pada gambar asli\n",
        "for rho, theta in lines[:, 0]:\n",
        "    a = np.cos(theta)\n",
        "    b = np.sin(theta)\n",
        "    x0 = a * rho\n",
        "    y0 = b * rho\n",
        "    x1 = int(x0 + 1000 * (-b))\n",
        "    y1 = int(y0 + 1000 * (a))\n",
        "    x2 = int(x0 - 1000 * (-b))\n",
        "    y2 = int(y0 - 1000 * (a))\n",
        "    cv2.line(image, (x1, y1), (x2, y2), (0, 255, 0), 2)\n",
        "\n",
        "# Menampilkan hasil\n",
        "plt.imshow(cv2.cvtColor(image, cv2.COLOR_BGR2RGB))\n",
        "plt.title('Hough Transform - Garis')\n",
        "plt.show()\n"
      ]
    },
    {
      "cell_type": "code",
      "source": [
        "# Membaca gambar dan template\n",
        "main_image = cv2.imread('gambar.jpg', 0)\n",
        "template = cv2.imread('template.jpg', 0)\n",
        "\n",
        "# Template matching\n",
        "result = cv2.matchTemplate(main_image, template, cv2.TM_CCOEFF_NORMED)\n",
        "min_val, max_val, min_loc, max_loc = cv2.minMaxLoc(result)\n",
        "\n",
        "# Menandai lokasi hasil terbaik\n",
        "top_left = max_loc\n",
        "h, w = template.shape\n",
        "bottom_right = (top_left[0] + w, top_left[1] + h)\n",
        "cv2.rectangle(main_image, top_left, bottom_right, 255, 2)\n",
        "\n",
        "# Menampilkan hasil\n",
        "plt.imshow(main_image, cmap='gray')\n",
        "plt.title('Template Matching')\n",
        "plt.show()\n"
      ],
      "metadata": {
        "id": "i4AOJzPEAvdk"
      },
      "execution_count": null,
      "outputs": []
    },
    {
      "cell_type": "code",
      "source": [
        "# Membaca gambar\n",
        "image = cv2.imread('gambar.jpg')\n",
        "\n",
        "# Membuat pyramid\n",
        "gaussian_pyramid = [image]\n",
        "for i in range(3):  # 3 level pyramid\n",
        "    image = cv2.pyrDown(image)\n",
        "    gaussian_pyramid.append(image)\n",
        "\n",
        "# Menampilkan hasil\n",
        "for i, img in enumerate(gaussian_pyramid):\n",
        "    plt.subplot(1, 4, i+1)\n",
        "    plt.imshow(cv2.cvtColor(img, cv2.COLOR_BGR2RGB))\n",
        "    plt.title(f'Level {i}')\n",
        "plt.show()\n"
      ],
      "metadata": {
        "id": "g3DftaqhAx5e"
      },
      "execution_count": null,
      "outputs": []
    },
    {
      "cell_type": "code",
      "source": [
        "# Membaca gambar\n",
        "image = cv2.imread('gambar.jpg')\n",
        "gray = cv2.cvtColor(image, cv2.COLOR_BGR2GRAY)\n",
        "\n",
        "# Deteksi lingkaran menggunakan HoughCircles\n",
        "circles = cv2.HoughCircles(gray, cv2.HOUGH_GRADIENT, dp=1.2, minDist=30, param1=50, param2=30, minRadius=10, maxRadius=50)\n",
        "\n",
        "# Menampilkan lingkaran\n",
        "if circles is not None:\n",
        "    circles = np.uint16(np.around(circles))\n",
        "    for circle in circles[0, :]:\n",
        "        cv2.circle(image, (circle[0], circle[1]), circle[2], (0, 255, 0), 2)\n",
        "\n",
        "# Menampilkan hasil\n",
        "plt.imshow(cv2.cvtColor(image, cv2.COLOR_BGR2RGB))\n",
        "plt.title('Hough Transform - Lingkaran')\n",
        "plt.show()\n"
      ],
      "metadata": {
        "id": "q0qEKtm4A21P"
      },
      "execution_count": null,
      "outputs": []
    },
    {
      "cell_type": "code",
      "source": [
        "from sklearn.cluster import KMeans\n",
        "\n",
        "# Membaca gambar\n",
        "image = cv2.imread('gambar.jpg')\n",
        "image = cv2.cvtColor(image, cv2.COLOR_BGR2RGB)\n",
        "pixels = image.reshape((-1, 3))\n",
        "\n",
        "# KMeans clustering untuk warna dominan\n",
        "kmeans = KMeans(n_clusters=3)\n",
        "kmeans.fit(pixels)\n",
        "\n",
        "# Menampilkan warna dominan\n",
        "dominant_colors = kmeans.cluster_centers_.astype(int)\n",
        "plt.figure()\n",
        "for i, color in enumerate(dominant_colors):\n",
        "    plt.subplot(1, 3, i+1)\n",
        "    plt.axis('off')\n",
        "    plt.imshow([[color]])\n",
        "plt.show()\n"
      ],
      "metadata": {
        "id": "96Uwy5T-A3fG"
      },
      "execution_count": null,
      "outputs": []
    },
    {
      "cell_type": "code",
      "source": [
        "# Membaca gambar\n",
        "image = cv2.imread('gambar.jpg')\n",
        "gray = cv2.cvtColor(image, cv2.COLOR_BGR2GRAY)\n",
        "\n",
        "# Deteksi tepi dan kontur\n",
        "edges = cv2.Canny(gray, 100, 200)\n",
        "contours, _ = cv2.findContours(edges, cv2.RETR_EXTERNAL, cv2.CHAIN_APPROX_SIMPLE)\n",
        "\n",
        "# Menampilkan kontur pada gambar\n",
        "cv2.drawContours(image, contours, -1, (0, 255, 0), 2)\n",
        "\n",
        "# Menampilkan hasil\n",
        "plt.imshow(cv2.cvtColor(image, cv2.COLOR_BGR2RGB))\n",
        "plt.title('Deteksi Kontur')\n",
        "plt.show()\n"
      ],
      "metadata": {
        "id": "nYKlcVeKA5ci"
      },
      "execution_count": null,
      "outputs": []
    }
  ]
}